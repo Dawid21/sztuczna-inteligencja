{
 "cells": [
  {
   "cell_type": "code",
   "execution_count": 1,
   "metadata": {},
   "outputs": [
    {
     "data": {
      "text/plain": [
       "KMeans(algorithm='auto', copy_x=True, init='k-means++', max_iter=300,\n",
       "       n_clusters=3, n_init=10, n_jobs=None, precompute_distances='auto',\n",
       "       random_state=None, tol=0.0001, verbose=0)"
      ]
     },
     "execution_count": 1,
     "metadata": {},
     "output_type": "execute_result"
    }
   ],
   "source": [
    "from sklearn.cluster import KMeans\n",
    "from sklearn import datasets\n",
    "from sklearn.model_selection import train_test_split\n",
    "\n",
    "# Wczytaj przykładowy zbiór danych - dane dotyczące trzech gatunków Irysów\n",
    "iris = datasets.load_iris()\n",
    "\n",
    "# Podzielmy zbiór na cechy oraz etykiety - to już znamy\n",
    "# Dla uproszczenia wybieramy tylko cechę trzecią i czwartą, tj długość i szerokość płatków\n",
    "X = iris.data[:, [2, 3]]\n",
    "y = iris.target\n",
    "\n",
    "# Używamy funkcji do podzielenia zbioru na zbiór uczący i zbiór testowy\n",
    "X_train, X_test, y_train, y_test = train_test_split(X, y, test_size = 0.3)\n",
    "\n",
    "# Tworzymy klasyfikator z trzema klastrami (klasami)\n",
    "# Jak dotąd jest podobnie do Laboratorium 2\n",
    "kmn = KMeans(n_clusters=3)\n",
    "\n",
    "# Uczymy klasyfikator na danych treningowych\n",
    "# Pierwsza różnica - uczenie przebiega bez nadzoru\n",
    "# To znaczy nie pokazujemy klasyfikatorowi prawidłowych klas - gatunków kwiatów\n",
    "# Zgodnie z konfiguracją wcześniej - powiedzieliśmy tylko że chcemy w zbiorze znaleźć 3 klasy\n",
    "# Dokładny opis algorytmu: https://scikit-learn.org/stable/modules/clustering.html#k-means\n",
    "kmn.fit(X_train)"
   ]
  },
  {
   "cell_type": "code",
   "execution_count": 2,
   "metadata": {},
   "outputs": [
    {
     "data": {
      "image/png": "[encoded data removed]",
      "text/plain": [
       "<Figure size 432x288 with 2 Axes>"
      ]
     },
     "metadata": {
      "needs_background": "light"
     },
     "output_type": "display_data"
    }
   ],
   "source": [
    "import matplotlib.pyplot as plt\n",
    "%matplotlib inline\n",
    "\n",
    "# Wyciągamy punkty centralne klastrów - pokażemy je na wykresie obok punktów ze zbioru uczącego\n",
    "centra = kmn.cluster_centers_\n",
    "\n",
    "fig, ax = plt.subplots(1, 2)\n",
    "# pierwszy wykres to nasz zbiór uczący, z prawdziwymi klasami\n",
    "ax[0].scatter(X_train[:, 0], X_train[:, 1], c=y_train, s=20)\n",
    "\n",
    "# Teraz używamy danych treningowych żeby sprawdzić co klasyfikator o nich myśli\n",
    "y_pred_train = kmn.predict(X_train)\n",
    "ax[1].scatter(X_train[:, 0], X_train[:, 1], c=y_pred_train, s=20)\n",
    "\n",
    "# Dokładamy na drugim wykresie centra klastrów\n",
    "ax[1].scatter(centra[:, 0], centra[:, 1], c='red', s=50)\n",
    "plt.show()\n",
    "\n",
    "# Różnice kolorów pomiędzy wykresami są nieistotne"
   ]
  },
  {
   "cell_type": "code",
   "execution_count": 3,
   "metadata": {},
   "outputs": [
    {
     "data": {
      "image/png": "[encoded data removed]",
      "text/plain": [
       "<Figure size 432x288 with 1 Axes>"
      ]
     },
     "metadata": {
      "needs_background": "light"
     },
     "output_type": "display_data"
    }
   ],
   "source": [
    "import matplotlib.pyplot as plt\n",
    "%matplotlib inline\n",
    "\n",
    "# Próbujemy przewidzieć gatunki dla zbioru testowego\n",
    "y_pred = kmn.predict(X_test)\n",
    "\n",
    "# Nowe gatunki przewidziane przez klastrowanie\n",
    "plt.scatter(X_test[:, 0], X_test[:, 1], c=y_pred, s=20)\n",
    "\n",
    "# Tak jak powyżej, wyświetlamy centra klastrów\n",
    "plt.scatter(centra[:, 0], centra[:, 1], c='red', s=50)\n",
    "plt.show()"
   ]
  },
  {
   "cell_type": "code",
   "execution_count": 36,
   "metadata": {
    "scrolled": true
   },
   "outputs": [
    {
     "name": "stdout",
     "output_type": "stream",
     "text": [
      "Attrs: dict_keys(['data', 'target', 'feature_names', 'DESCR', 'details', 'categories', 'url'])\n",
      "      MPG  cylinders  cubicInches  horsepower  weightLbs  time-to-sixty  \\\n",
      "0    14.0        4.0        350.0       165.0     4209.0           12.0   \n",
      "1    31.9        1.0         89.0        71.0     1925.0           14.0   \n",
      "2    17.0        4.0        302.0       140.0     3449.0           11.0   \n",
      "3    15.0        4.0        400.0       150.0     3761.0           10.0   \n",
      "4    30.5        1.0         98.0        63.0     2051.0           17.0   \n",
      "..    ...        ...          ...         ...        ...            ...   \n",
      "387  25.5        1.0        122.0        96.0     2300.0           16.0   \n",
      "388  21.0        3.0        155.0       107.0     2472.0           14.0   \n",
      "389  11.0        4.0        318.0       210.0     4382.0           14.0   \n",
      "390  17.0        3.0        163.0       125.0     3140.0           14.0   \n",
      "391  36.0        1.0        105.0        74.0     1980.0           15.0   \n",
      "\n",
      "       year  \n",
      "0    1972.0  \n",
      "1    1980.0  \n",
      "2    1971.0  \n",
      "3    1971.0  \n",
      "4    1978.0  \n",
      "..      ...  \n",
      "387  1978.0  \n",
      "388  1974.0  \n",
      "389  1971.0  \n",
      "390  1979.0  \n",
      "391  1983.0  \n",
      "\n",
      "[392 rows x 7 columns]\n",
      "[0 3 1 3 2 0 3 2 0 3 0 1 3 0 2 0 2 2 3 3 0 1 2 0 3 0 0 3 1 0 0 3 0 0 1 2 0\n",
      " 3 0 0 0 1 0 3 0 1 1 0 1 0 2 0 2 0 0 0 2 2 2 0 2 2 0 0 3 0 0 0 1 2 1 3 1 3\n",
      " 1 0 1 1 2 1 0 1 0 3 1 0 0 3 0 1 1 1 2 0 2 3 0 3 0 1 2 0 0 3 0 2 0 1 0 0 1\n",
      " 2 1 2 1 2 3 2]\n"
     ]
    },
    {
     "data": {
      "image/png": "[encoded data removed]",
      "text/plain": [
       "<Figure size 432x288 with 1 Axes>"
      ]
     },
     "metadata": {
      "needs_background": "light"
     },
     "output_type": "display_data"
    }
   ],
   "source": [
    "# Zadanie 1\n",
    "# Poniżej przy pomocy funkcji fetch_openml można zaimportować zbiór danych o samochodach\n",
    "# Zapoznaj się ze zbiorem danych (zwizualizuj wybrane przez siebie cechy) a następnie podziel go na zbiór uczący i testowy\n",
    "# Wytrenuj klasyfikator KMeans z zadaną przez siebie liczbą klas i zwizualizuj wyniki predykcji na zbiorze testowym\n",
    "from sklearn.datasets import fetch_openml\n",
    "import pandas as pd\n",
    "import seaborn as sns\n",
    "\n",
    "samochody = fetch_openml('cars1')\n",
    "print('Attrs:',samochody.keys())\n",
    "samochody_df = pd.DataFrame(samochody['data'], columns=samochody['feature_names'])\n",
    "print(samochody_df)\n",
    "\n",
    "# Podziel zbiór danych na uczący i testowy.\n",
    "X = samochody.data\n",
    "y = samochody.target\n",
    "X_train, X_test, y_train, y_test = train_test_split(X, y, test_size = 0.3)\n",
    "# Wytrenuj klasyfikator kNN\n",
    "kmn = KMeans(n_clusters=4)\n",
    "kmn.fit(X_train)\n",
    "# Dokonaj predykcji na zbiorze testowym\n",
    "y_pred = kmn.predict(X_test)\n",
    "#tworzę sobie dataframe i przypisuję do niego wyniki predykcji jako wartość 'classes'\n",
    "test_df = pd.DataFrame(X_test, columns=samochody['feature_names'])\n",
    "test_df['classes'] = y_pred\n",
    "#prezentuję wyniki jako pairplot z zaznaczeniem klas\n",
    "sns.pairplot(test_df, vars=samochody['feature_names'], hue='classes')\n",
    "#plt.scatter(X_test[:, 3], X_test[:, 1], c=y_pred, s=20)\n",
    "plt.show()\n"
   ]
  },
  {
   "cell_type": "code",
   "execution_count": null,
   "metadata": {},
   "outputs": [],
   "source": [
    "# Zadanie 2\n",
    "# Opisz własnymi słowami, jakie klasy samochodów wg Ciebie znalazły się w zbiorze\n",
    "# Wyznaczone klasy odpowiadają mniej więcej podziałowi według wielkości pojazdu. W przypadku tych 4 klas można mówić o typach: samochody miejskie (niksa moc, spalanie, waga itp), kompaktowe, luksusowe, terenowe/pickup/SUV (duże silniki, duża moc, duża waga itp.)  "
   ]
  },
  {
   "cell_type": "code",
   "execution_count": null,
   "metadata": {},
   "outputs": [],
   "source": [
    "samochody.keys()"
   ]
  },
  {
   "cell_type": "code",
   "execution_count": null,
   "metadata": {},
   "outputs": [],
   "source": [
    "# Ściąga: Konwersja typów dla y\n",
    "\n",
    "y = samochody['target']\n",
    "y = [int(elem) for elem in y]\n",
    "y[:5]"
   ]
  }
 ],
 "metadata": {
  "kernelspec": {
   "display_name": "Python 3",
   "language": "python",
   "name": "python3"
  },
  "language_info": {
   "codemirror_mode": {
    "name": "ipython",
    "version": 3
   },
   "file_extension": ".py",
   "mimetype": "text/x-python",
   "name": "python",
   "nbconvert_exporter": "python",
   "pygments_lexer": "ipython3",
   "version": "3.7.4"
  }
 },
 "nbformat": 4,
 "nbformat_minor": 2
}

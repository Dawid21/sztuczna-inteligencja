{
 "cells": [
  {
   "cell_type": "code",
   "execution_count": 2,
   "metadata": {},
   "outputs": [
    {
     "name": "stdout",
     "output_type": "stream",
     "text": [
      "Klucze dostępne w zbiorze danych:  dict_keys(['data', 'target', 'feature_names', 'DESCR', 'filename'])\n",
      "Klucze dostępne w zbiorze danych:  ['CRIM' 'ZN' 'INDUS' 'CHAS' 'NOX' 'RM' 'AGE' 'DIS' 'RAD' 'TAX' 'PTRATIO'\n",
      " 'B' 'LSTAT']\n",
      ".. _boston_dataset:\n",
      "\n",
      "Boston house prices dataset\n",
      "---------------------------\n",
      "\n",
      "**Data Set Characteristics:**  \n",
      "\n",
      "    :Number of Instances: 506 \n",
      "\n",
      "    :Number of Attributes: 13 numeric/categorical predictive. Median Value (attribute 14) is usually the target.\n",
      "\n",
      "    :Attribute Information (in order):\n",
      "        - CRIM     per capita crime rate by town\n",
      "        - ZN       proportion of residential land zoned for lots over 25,000 sq.ft.\n",
      "        - INDUS    proportion of non-retail business acres per town\n",
      "        - CHAS     Charles River dummy variable (= 1 if tract bounds river; 0 otherwise)\n",
      "        - NOX      nitric oxides concentration (parts per 10 million)\n",
      "        - RM       average number of rooms per dwelling\n",
      "        - AGE      proportion of owner-occupied units built prior to 1940\n",
      "        - DIS      weighted distances to five Boston employment centres\n",
      "        - RAD      index of accessibility to radial highways\n",
      "        - TAX      full-value property-tax rate per $10,000\n",
      "        - PTRATIO  pupil-teacher ratio by town\n",
      "        - B        1000(Bk - 0.63)^2 where Bk is the proportion of blacks by town\n",
      "        - LSTAT    % lower status of the population\n",
      "        - MEDV     Median value of owner-occupied homes in $1000's\n",
      "\n",
      "    :Missing Attribute Values: None\n",
      "\n",
      "    :Creator: Harrison, D. and Rubinfeld, D.L.\n",
      "\n",
      "This is a copy of UCI ML housing dataset.\n",
      "https://archive.ics.uci.edu/ml/machine-learning-databases/housing/\n",
      "\n",
      "\n",
      "This dataset was taken from the StatLib library which is maintained at Carnegie Mellon University.\n",
      "\n",
      "The Boston house-price data of Harrison, D. and Rubinfeld, D.L. 'Hedonic\n",
      "prices and the demand for clean air', J. Environ. Economics & Management,\n",
      "vol.5, 81-102, 1978.   Used in Belsley, Kuh & Welsch, 'Regression diagnostics\n",
      "...', Wiley, 1980.   N.B. Various transformations are used in the table on\n",
      "pages 244-261 of the latter.\n",
      "\n",
      "The Boston house-price data has been used in many machine learning papers that address regression\n",
      "problems.   \n",
      "     \n",
      ".. topic:: References\n",
      "\n",
      "   - Belsley, Kuh & Welsch, 'Regression diagnostics: Identifying Influential Data and Sources of Collinearity', Wiley, 1980. 244-261.\n",
      "   - Quinlan,R. (1993). Combining Instance-Based and Model-Based Learning. In Proceedings on the Tenth International Conference of Machine Learning, 236-243, University of Massachusetts, Amherst. Morgan Kaufmann.\n",
      "\n"
     ]
    }
   ],
   "source": [
    "from sklearn.datasets import load_boston\n",
    "import matplotlib.pyplot as plt\n",
    "%matplotlib inline\n",
    "\n",
    "# Wczytanie zbioru cech nieruchomości i ich cen\n",
    "boston_nieruchomosci = load_boston()\n",
    "\n",
    "print('Klucze dostępne w zbiorze danych: ', boston_nieruchomosci.keys())\n",
    "print('Klucze dostępne w zbiorze danych: ', boston_nieruchomosci['feature_names'])\n",
    "print(boston_nieruchomosci.DESCR)\n"
   ]
  },
  {
   "cell_type": "code",
   "execution_count": 3,
   "metadata": {},
   "outputs": [
    {
     "name": "stdout",
     "output_type": "stream",
     "text": [
      "Przykładowe wartości cech:\n",
      " [[6.3200e-03 1.8000e+01 2.3100e+00 0.0000e+00 5.3800e-01 6.5750e+00\n",
      "  6.5200e+01 4.0900e+00 1.0000e+00 2.9600e+02 1.5300e+01 3.9690e+02\n",
      "  4.9800e+00]\n",
      " [2.7310e-02 0.0000e+00 7.0700e+00 0.0000e+00 4.6900e-01 6.4210e+00\n",
      "  7.8900e+01 4.9671e+00 2.0000e+00 2.4200e+02 1.7800e+01 3.9690e+02\n",
      "  9.1400e+00]\n",
      " [2.7290e-02 0.0000e+00 7.0700e+00 0.0000e+00 4.6900e-01 7.1850e+00\n",
      "  6.1100e+01 4.9671e+00 2.0000e+00 2.4200e+02 1.7800e+01 3.9283e+02\n",
      "  4.0300e+00]]\n",
      "Przykładowe kwoty:  [24.  21.6 34.7]\n"
     ]
    }
   ],
   "source": [
    "print('Przykładowe wartości cech:\\n', boston_nieruchomosci.data[:3])\n",
    "print('Przykładowe kwoty: ', boston_nieruchomosci.target[:3])"
   ]
  },
  {
   "cell_type": "code",
   "execution_count": 4,
   "metadata": {},
   "outputs": [
    {
     "name": "stdout",
     "output_type": "stream",
     "text": [
      "        CRIM    ZN  INDUS  CHAS    NOX     RM   AGE     DIS  RAD    TAX  \\\n",
      "0    0.00632  18.0   2.31   0.0  0.538  6.575  65.2  4.0900  1.0  296.0   \n",
      "1    0.02731   0.0   7.07   0.0  0.469  6.421  78.9  4.9671  2.0  242.0   \n",
      "2    0.02729   0.0   7.07   0.0  0.469  7.185  61.1  4.9671  2.0  242.0   \n",
      "3    0.03237   0.0   2.18   0.0  0.458  6.998  45.8  6.0622  3.0  222.0   \n",
      "4    0.06905   0.0   2.18   0.0  0.458  7.147  54.2  6.0622  3.0  222.0   \n",
      "..       ...   ...    ...   ...    ...    ...   ...     ...  ...    ...   \n",
      "501  0.06263   0.0  11.93   0.0  0.573  6.593  69.1  2.4786  1.0  273.0   \n",
      "502  0.04527   0.0  11.93   0.0  0.573  6.120  76.7  2.2875  1.0  273.0   \n",
      "503  0.06076   0.0  11.93   0.0  0.573  6.976  91.0  2.1675  1.0  273.0   \n",
      "504  0.10959   0.0  11.93   0.0  0.573  6.794  89.3  2.3889  1.0  273.0   \n",
      "505  0.04741   0.0  11.93   0.0  0.573  6.030  80.8  2.5050  1.0  273.0   \n",
      "\n",
      "     PTRATIO       B  LSTAT  target  \n",
      "0       15.3  396.90   4.98    24.0  \n",
      "1       17.8  396.90   9.14    21.6  \n",
      "2       17.8  392.83   4.03    34.7  \n",
      "3       18.7  394.63   2.94    33.4  \n",
      "4       18.7  396.90   5.33    36.2  \n",
      "..       ...     ...    ...     ...  \n",
      "501     21.0  391.99   9.67    22.4  \n",
      "502     21.0  396.90   9.08    20.6  \n",
      "503     21.0  396.90   5.64    23.9  \n",
      "504     21.0  393.45   6.48    22.0  \n",
      "505     21.0  396.90   7.88    11.9  \n",
      "\n",
      "[506 rows x 14 columns]\n"
     ]
    }
   ],
   "source": [
    "import matplotlib.pyplot as plt\n",
    "import pandas as pd\n",
    "import numpy as np\n",
    "%matplotlib inline\n",
    "\n",
    "import seaborn as sns\n",
    "\n",
    "# konwersja na obiekt pandas.DataFrame\n",
    "boston_df = pd.DataFrame(boston_nieruchomosci['data'], columns=boston_nieruchomosci['feature_names'])\n",
    "\n",
    "# doklejenie informacji o cenie do reszty dataframe\n",
    "boston_df['target'] = np.array(list(boston_nieruchomosci['target']))\n",
    "print(boston_df)\n",
    "\n",
    "# wykres\n",
    "#sns.pairplot(boston_df)\n",
    "#plt.show()"
   ]
  },
  {
   "cell_type": "code",
   "execution_count": 5,
   "metadata": {},
   "outputs": [
    {
     "data": {
      "image/png": "[encoded data removed]",
      "text/plain": [
       "<Figure size 432x288 with 1 Axes>"
      ]
     },
     "metadata": {
      "needs_background": "light"
     },
     "output_type": "display_data"
    }
   ],
   "source": [
    "# Dużo zmiennych... na początek spróbujmy z jedną\n",
    "l_pokoi = boston_nieruchomosci['data'][:, np.newaxis, 5]\n",
    "plt.scatter(l_pokoi, boston_nieruchomosci['target'])\n",
    "plt.show()"
   ]
  },
  {
   "cell_type": "code",
   "execution_count": 6,
   "metadata": {},
   "outputs": [
    {
     "name": "stdout",
     "output_type": "stream",
     "text": [
      "Metryka domyślna:  0.5363289497038378\n",
      "Metryka r2:  0.5363289497038378\n",
      "Współczynniki regresji:\n",
      " [8.7401055]\n"
     ]
    },
    {
     "data": {
      "image/png": "[encoded data removed]",
      "text/plain": [
       "<Figure size 432x288 with 1 Axes>"
      ]
     },
     "metadata": {
      "needs_background": "light"
     },
     "output_type": "display_data"
    }
   ],
   "source": [
    "from sklearn.model_selection import train_test_split\n",
    "from sklearn.metrics import r2_score\n",
    "from sklearn.linear_model import LinearRegression\n",
    "\n",
    "# Stworzenie regresora liniowego\n",
    "linreg = LinearRegression()\n",
    "\n",
    "X_train, X_test, y_train, y_test = train_test_split(l_pokoi, boston_nieruchomosci['target'], test_size = 0.3)\n",
    "\n",
    "linreg.fit(X_train, y_train)\n",
    "\n",
    "# przewidywanie ceny\n",
    "y_pred = linreg.predict(X_test)\n",
    "\n",
    "# domyślna metryka\n",
    "print('Metryka domyślna: ', linreg.score(X_test, y_test))\n",
    "\n",
    "# wskaźnik (metryka) r^2\n",
    "# dokumentacja: https://scikit-learn.org/stable/modules/generated/sklearn.metrics.r2_score.html#sklearn.metrics.r2_score\n",
    "print('Metryka r2: ', r2_score(y_test, y_pred))\n",
    "\n",
    "# współczynniki regresji\n",
    "print('Współczynniki regresji:\\n', linreg.coef_)\n",
    "\n",
    "# Wykres regresji\n",
    "plt.scatter(X_test, y_test, color='black')\n",
    "plt.plot(X_test, y_pred, color='blue', linewidth=2)\n",
    "plt.show()"
   ]
  },
  {
   "cell_type": "code",
   "execution_count": 7,
   "metadata": {},
   "outputs": [
    {
     "name": "stdout",
     "output_type": "stream",
     "text": [
      "[ 0.70708692  0.63476138  0.50385441 -0.21594318 -1.77736913]\n",
      "[ 0.70944924  0.69763179  0.7704844  -0.2159426  -0.50013497]\n",
      "[ -10.11581024  -33.25013827  -39.73491255 -106.6526283   -73.84557039]\n"
     ]
    }
   ],
   "source": [
    "# dokumentacja: https://scikit-learn.org/stable/modules/generated/sklearn.model_selection.cross_val_score.html\n",
    "from sklearn.model_selection import cross_val_score\n",
    "\n",
    "cv_score_r2 = cross_val_score(linreg, l_pokoi, boston_nieruchomosci.target, cv=5, scoring='r2')\n",
    "print(cv_score_r2)\n",
    "\n",
    "# używamy innej metryki \n",
    "# dokumentacja:\n",
    "# https://scikit-learn.org/stable/modules/model_evaluation.html#scoring-parameter\n",
    "cv_score_ev = cross_val_score(linreg, l_pokoi, boston_nieruchomosci.target, cv=5, scoring='explained_variance')\n",
    "print(cv_score_ev)\n",
    "\n",
    "# ...i jeszcze innej\n",
    "cv_score_mse = cross_val_score(linreg, l_pokoi, boston_nieruchomosci.target, cv=5, scoring='neg_mean_squared_error')\n",
    "print(cv_score_mse)"
   ]
  },
  {
   "cell_type": "code",
   "execution_count": 8,
   "metadata": {},
   "outputs": [
    {
     "name": "stdout",
     "output_type": "stream",
     "text": [
      "Metryka domyślna:  0.06501081632446792\n",
      "R2 [-1.79151691e-01  5.72171651e-04 -9.19171854e-01 -1.09544022e-01\n",
      " -1.77762058e+00]\n",
      "explained_variance [-0.01897404  0.14020778 -0.26365505 -0.00249512  0.05865143]\n",
      "neg_mean_squared_error [ -40.72223372  -90.98466461 -153.70110631  -97.32016083  -73.85225599]\n"
     ]
    }
   ],
   "source": [
    "# Zadanie 1\n",
    "# Wybierz inną cechę i spróbuj przewidzieć ceny mieszkań. Użyj walidacji krzyżowej.\n",
    "\n",
    "#wybrana cecha: (7) DIS weighted distances to five Boston employment centres\n",
    "distance = boston_nieruchomosci['data'][:, np.newaxis,7]\n",
    "#plt.scatter(distance, boston_nieruchomosci['target'])\n",
    "#plt.show()\n",
    "#tworzymy nowy regresor\n",
    "linreg = LinearRegression()\n",
    "#dzielimy na zbiory testowe i uczące\n",
    "X_train, X_test, y_train, y_test = train_test_split(distance, boston_nieruchomosci['target'], test_size = 0.3)\n",
    "#uczymy regrosor na danych uczących\n",
    "linreg.fit(X_train, y_train)\n",
    "\n",
    "# przewidywanie ceny\n",
    "y_pred = linreg.predict(X_test)\n",
    "print('Metryka domyślna: ', linreg.score(X_test, y_test))\n",
    "\n",
    "cv_score_r2 = cross_val_score(linreg, distance, boston_nieruchomosci.target, cv=5, scoring='r2')\n",
    "print('R2',cv_score_r2)\n",
    "cv_score_ev = cross_val_score(linreg, distance, boston_nieruchomosci.target, cv=5, scoring='explained_variance')\n",
    "print('explained_variance',cv_score_ev)\n",
    "cv_score_mse = cross_val_score(linreg, distance, boston_nieruchomosci.target, cv=5, scoring='neg_mean_squared_error')\n",
    "print('neg_mean_squared_error',cv_score_mse)\n",
    "\n",
    "\n",
    "# Zadanie bonus: zaimportuj dane nt cukrzycy przy pomocy funkcji load_diabetes\n",
    "# Następnie przeanalizuj dane i zaproponuj regresor liniowy. Sprawdź jakość modelu za pomocą walidacji krzyżowej."
   ]
  },
  {
   "cell_type": "code",
   "execution_count": null,
   "metadata": {},
   "outputs": [],
   "source": []
  }
 ],
 "metadata": {
  "kernelspec": {
   "display_name": "Python 3",
   "language": "python",
   "name": "python3"
  },
  "language_info": {
   "codemirror_mode": {
    "name": "ipython",
    "version": 3
   },
   "file_extension": ".py",
   "mimetype": "text/x-python",
   "name": "python",
   "nbconvert_exporter": "python",
   "pygments_lexer": "ipython3",
   "version": "3.7.4"
  }
 },
 "nbformat": 4,
 "nbformat_minor": 2
}
